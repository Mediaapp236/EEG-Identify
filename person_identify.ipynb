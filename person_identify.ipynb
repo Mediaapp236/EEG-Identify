{
 "cells": [
  {
   "cell_type": "code",
   "execution_count": 13,
   "metadata": {},
   "outputs": [],
   "source": [
    "import tensorflow as tf\n",
    "from tensorflow.keras import datasets, layers, models\n",
    "import matplotlib.pyplot as plt\n",
    "import numpy as np\n",
    "import h5py\n",
    "# Thu vien xu ly data\n",
    "import pyedflib\n",
    "from tqdm import tqdm\n",
    "import time"
   ]
  },
  {
   "cell_type": "code",
   "execution_count": 14,
   "metadata": {},
   "outputs": [],
   "source": [
    "# Doc du lieu, gan nhan theo person id\n",
    "def _read_py_function(filename):\n",
    "    #print(filename.numpy().decode())\n",
    "    f = pyedflib.EdfReader(filename.numpy().decode())\n",
    "    n_channels = f.signals_in_file\n",
    "    channels = f.getSignalLabels()\n",
    "    print(n_channels, f.getNSamples()[0])\n",
    "    print(len(f.readSignal(1)))\n",
    "    eeg_data = np.zeros((n_channels, f.getNSamples()[0]), dtype=np.float32)\n",
    "    for i in np.arange(n_channels):\n",
    "        eeg_data[i, :] = f.readSignal(i)\n",
    "\n",
    "\n",
    "    n_samples = f.getNSamples()[0]\n",
    "    reminder = int(n_samples % 160)\n",
    "    n_samples -= reminder\n",
    "    seconds = int(n_samples/160) #160 is frequency\n",
    "    \n",
    "    path = filename.numpy().decode().split(\"/\")\n",
    "    person_id = int(path[-1].partition(\"S\")[2].partition(\"R\")[0]) #extract number between S and R\n",
    "    label = np.zeros(109, dtype=bool) #109 classes (persons)\n",
    "    label[person_id-1]=1\n",
    "    labels = np.tile(label, (seconds,1))#xếp trồng seconds lần label lên nhau\n",
    "    \n",
    "    eeg_data = eeg_data.transpose()# hàm đổi trục dữ liệu\n",
    "    print(eeg_data.shape)\n",
    "    if reminder > 0:\n",
    "        eeg_data = eeg_data[:-reminder, :]\n",
    "    intervals = np.linspace(0, n_samples, num=seconds, endpoint=False, dtype=int)\n",
    "    print(intervals)\n",
    "    eeg_data = np.split(eeg_data, intervals) #return a list, remove the first empty\n",
    "    print(eeg_data[1].shape) \n",
    "    del eeg_data[0]\n",
    "    eeg_data = np.array(eeg_data)   #shape = (seconds, frequency, n_channels)\n",
    "\n",
    "    return eeg_data, labels\n",
    "\n"
   ]
  },
  {
   "cell_type": "code",
   "execution_count": 15,
   "metadata": {},
   "outputs": [],
   "source": [
    "# Tao bo du lieu data trane, test, validation\n",
    "def get_dataset(input='train'):\n",
    "    path = \"files/\"\n",
    "    global dataset\n",
    "    if input==\"train\":\n",
    "        dataset = tf.data.Dataset.list_files(path + \"S*/S*R01.edf\")\n",
    "        for i in range(2, 13):\n",
    "            nth_record = tf.data.Dataset.list_files(path + \"S*/S*R\" + \"{:02d}\".format(i) + \".edf\")\n",
    "            dataset = dataset.concatenate(nth_record)\n",
    "    elif input==\"test\":\n",
    "        dataset = tf.data.Dataset.list_files(path + \"S*/S*R13.edf\")\n",
    "    elif input==\"validation\":\n",
    "        dataset = tf.data.Dataset.list_files(path + \"S*/S*R14.edf\")\n",
    "    elif input==\"debugdata\":\n",
    "        dataset = tf.data.Dataset.list_files(path + \"S001/S001R01.edf\")\n",
    "\n",
    "    length = len(list(dataset.as_numpy_iterator()))\n",
    "    train_data = list()\n",
    "    labels = list()\n",
    "    \n",
    "    #index = 0\n",
    "    with tqdm(total=length) as pbar:\n",
    "        for filename in dataset:\n",
    "            eeg_data, label = _read_py_function(filename)\n",
    "            train_data.append(eeg_data)\n",
    "            label = np.expand_dims(label, axis=1)\n",
    "            labels.append(label)\n",
    "            #index += 1\n",
    "            #if index == 10:\n",
    "            #  break\n",
    "            pbar.update(1)\n",
    "    print(\"Loaded\")\n",
    "    \n",
    "    return train_data, labels"
   ]
  },
  {
   "cell_type": "code",
   "execution_count": 16,
   "metadata": {},
   "outputs": [
    {
     "ename": "InvalidArgumentError",
     "evalue": "Expected 'tf.Tensor(False, shape=(), dtype=bool)' to be true. Summarized data: b'No files matched pattern: files/S*/S*R01.edf'",
     "output_type": "error",
     "traceback": [
      "\u001b[0;31m---------------------------------------------------------------------------\u001b[0m",
      "\u001b[0;31mInvalidArgumentError\u001b[0m                      Traceback (most recent call last)",
      "\u001b[1;32m/Volumes/MacCare/Mr Robot/Cao Học/Luận Văn/project/git_eeg_identify/person_identify.ipynb Cell 4\u001b[0m in \u001b[0;36m<cell line: 1>\u001b[0;34m()\u001b[0m\n\u001b[0;32m----> <a href='vscode-notebook-cell:/Volumes/MacCare/Mr%20Robot/Cao%20Ho%CC%A3c/Lua%CC%A3%CC%82n%20Va%CC%86n/project/git_eeg_identify/person_identify.ipynb#ch0000003?line=0'>1</a>\u001b[0m training_dataset, training_labels \u001b[39m=\u001b[39m get_dataset(\u001b[39minput\u001b[39;49m\u001b[39m=\u001b[39;49m\u001b[39m'\u001b[39;49m\u001b[39mtrain\u001b[39;49m\u001b[39m'\u001b[39;49m)\n",
      "\u001b[1;32m/Volumes/MacCare/Mr Robot/Cao Học/Luận Văn/project/git_eeg_identify/person_identify.ipynb Cell 4\u001b[0m in \u001b[0;36mget_dataset\u001b[0;34m(input)\u001b[0m\n\u001b[1;32m      <a href='vscode-notebook-cell:/Volumes/MacCare/Mr%20Robot/Cao%20Ho%CC%A3c/Lua%CC%A3%CC%82n%20Va%CC%86n/project/git_eeg_identify/person_identify.ipynb#ch0000003?line=3'>4</a>\u001b[0m \u001b[39mglobal\u001b[39;00m dataset\n\u001b[1;32m      <a href='vscode-notebook-cell:/Volumes/MacCare/Mr%20Robot/Cao%20Ho%CC%A3c/Lua%CC%A3%CC%82n%20Va%CC%86n/project/git_eeg_identify/person_identify.ipynb#ch0000003?line=4'>5</a>\u001b[0m \u001b[39mif\u001b[39;00m \u001b[39minput\u001b[39m\u001b[39m==\u001b[39m\u001b[39m\"\u001b[39m\u001b[39mtrain\u001b[39m\u001b[39m\"\u001b[39m:\n\u001b[0;32m----> <a href='vscode-notebook-cell:/Volumes/MacCare/Mr%20Robot/Cao%20Ho%CC%A3c/Lua%CC%A3%CC%82n%20Va%CC%86n/project/git_eeg_identify/person_identify.ipynb#ch0000003?line=5'>6</a>\u001b[0m     dataset \u001b[39m=\u001b[39m tf\u001b[39m.\u001b[39;49mdata\u001b[39m.\u001b[39;49mDataset\u001b[39m.\u001b[39;49mlist_files(path \u001b[39m+\u001b[39;49m \u001b[39m\"\u001b[39;49m\u001b[39mS*/S*R01.edf\u001b[39;49m\u001b[39m\"\u001b[39;49m)\n\u001b[1;32m      <a href='vscode-notebook-cell:/Volumes/MacCare/Mr%20Robot/Cao%20Ho%CC%A3c/Lua%CC%A3%CC%82n%20Va%CC%86n/project/git_eeg_identify/person_identify.ipynb#ch0000003?line=6'>7</a>\u001b[0m     \u001b[39mfor\u001b[39;00m i \u001b[39min\u001b[39;00m \u001b[39mrange\u001b[39m(\u001b[39m2\u001b[39m, \u001b[39m13\u001b[39m):\n\u001b[1;32m      <a href='vscode-notebook-cell:/Volumes/MacCare/Mr%20Robot/Cao%20Ho%CC%A3c/Lua%CC%A3%CC%82n%20Va%CC%86n/project/git_eeg_identify/person_identify.ipynb#ch0000003?line=7'>8</a>\u001b[0m         nth_record \u001b[39m=\u001b[39m tf\u001b[39m.\u001b[39mdata\u001b[39m.\u001b[39mDataset\u001b[39m.\u001b[39mlist_files(path \u001b[39m+\u001b[39m \u001b[39m\"\u001b[39m\u001b[39mS*/S*R\u001b[39m\u001b[39m\"\u001b[39m \u001b[39m+\u001b[39m \u001b[39m\"\u001b[39m\u001b[39m{:02d}\u001b[39;00m\u001b[39m\"\u001b[39m\u001b[39m.\u001b[39mformat(i) \u001b[39m+\u001b[39m \u001b[39m\"\u001b[39m\u001b[39m.edf\u001b[39m\u001b[39m\"\u001b[39m)\n",
      "File \u001b[0;32m/Library/Frameworks/Python.framework/Versions/3.10/lib/python3.10/site-packages/tensorflow/python/data/ops/dataset_ops.py:1379\u001b[0m, in \u001b[0;36mDatasetV2.list_files\u001b[0;34m(file_pattern, shuffle, seed, name)\u001b[0m\n\u001b[1;32m   1372\u001b[0m condition \u001b[39m=\u001b[39m math_ops\u001b[39m.\u001b[39mgreater(array_ops\u001b[39m.\u001b[39mshape(matching_files)[\u001b[39m0\u001b[39m], \u001b[39m0\u001b[39m,\n\u001b[1;32m   1373\u001b[0m                              name\u001b[39m=\u001b[39m\u001b[39m\"\u001b[39m\u001b[39mmatch_not_empty\u001b[39m\u001b[39m\"\u001b[39m)\n\u001b[1;32m   1375\u001b[0m message \u001b[39m=\u001b[39m math_ops\u001b[39m.\u001b[39madd(\n\u001b[1;32m   1376\u001b[0m     \u001b[39m\"\u001b[39m\u001b[39mNo files matched pattern: \u001b[39m\u001b[39m\"\u001b[39m,\n\u001b[1;32m   1377\u001b[0m     string_ops\u001b[39m.\u001b[39mreduce_join(file_pattern, separator\u001b[39m=\u001b[39m\u001b[39m\"\u001b[39m\u001b[39m, \u001b[39m\u001b[39m\"\u001b[39m), name\u001b[39m=\u001b[39m\u001b[39m\"\u001b[39m\u001b[39mmessage\u001b[39m\u001b[39m\"\u001b[39m)\n\u001b[0;32m-> 1379\u001b[0m assert_not_empty \u001b[39m=\u001b[39m control_flow_ops\u001b[39m.\u001b[39;49mAssert(\n\u001b[1;32m   1380\u001b[0m     condition, [message], summarize\u001b[39m=\u001b[39;49m\u001b[39m1\u001b[39;49m, name\u001b[39m=\u001b[39;49m\u001b[39m\"\u001b[39;49m\u001b[39massert_not_empty\u001b[39;49m\u001b[39m\"\u001b[39;49m)\n\u001b[1;32m   1381\u001b[0m \u001b[39mwith\u001b[39;00m ops\u001b[39m.\u001b[39mcontrol_dependencies([assert_not_empty]):\n\u001b[1;32m   1382\u001b[0m   matching_files \u001b[39m=\u001b[39m array_ops\u001b[39m.\u001b[39midentity(matching_files)\n",
      "File \u001b[0;32m/Library/Frameworks/Python.framework/Versions/3.10/lib/python3.10/site-packages/tensorflow/python/util/traceback_utils.py:153\u001b[0m, in \u001b[0;36mfilter_traceback.<locals>.error_handler\u001b[0;34m(*args, **kwargs)\u001b[0m\n\u001b[1;32m    151\u001b[0m \u001b[39mexcept\u001b[39;00m \u001b[39mException\u001b[39;00m \u001b[39mas\u001b[39;00m e:\n\u001b[1;32m    152\u001b[0m   filtered_tb \u001b[39m=\u001b[39m _process_traceback_frames(e\u001b[39m.\u001b[39m__traceback__)\n\u001b[0;32m--> 153\u001b[0m   \u001b[39mraise\u001b[39;00m e\u001b[39m.\u001b[39mwith_traceback(filtered_tb) \u001b[39mfrom\u001b[39;00m \u001b[39mNone\u001b[39m\n\u001b[1;32m    154\u001b[0m \u001b[39mfinally\u001b[39;00m:\n\u001b[1;32m    155\u001b[0m   \u001b[39mdel\u001b[39;00m filtered_tb\n",
      "File \u001b[0;32m/Library/Frameworks/Python.framework/Versions/3.10/lib/python3.10/site-packages/tensorflow/python/ops/control_flow_ops.py:155\u001b[0m, in \u001b[0;36mAssert\u001b[0;34m(condition, data, summarize, name)\u001b[0m\n\u001b[1;32m    153\u001b[0m     xs \u001b[39m=\u001b[39m ops\u001b[39m.\u001b[39mconvert_n_to_tensor(data)\n\u001b[1;32m    154\u001b[0m     data_str \u001b[39m=\u001b[39m [_summarize_eager(x, summarize) \u001b[39mfor\u001b[39;00m x \u001b[39min\u001b[39;00m xs]\n\u001b[0;32m--> 155\u001b[0m     \u001b[39mraise\u001b[39;00m errors\u001b[39m.\u001b[39mInvalidArgumentError(\n\u001b[1;32m    156\u001b[0m         node_def\u001b[39m=\u001b[39m\u001b[39mNone\u001b[39;00m,\n\u001b[1;32m    157\u001b[0m         op\u001b[39m=\u001b[39m\u001b[39mNone\u001b[39;00m,\n\u001b[1;32m    158\u001b[0m         message\u001b[39m=\u001b[39m\u001b[39m\"\u001b[39m\u001b[39mExpected \u001b[39m\u001b[39m'\u001b[39m\u001b[39m%s\u001b[39;00m\u001b[39m'\u001b[39m\u001b[39m to be true. Summarized data: \u001b[39m\u001b[39m%s\u001b[39;00m\u001b[39m\"\u001b[39m \u001b[39m%\u001b[39m\n\u001b[1;32m    159\u001b[0m         (condition, \u001b[39m\"\u001b[39m\u001b[39m\\n\u001b[39;00m\u001b[39m\"\u001b[39m\u001b[39m.\u001b[39mjoin(data_str)))\n\u001b[1;32m    160\u001b[0m   \u001b[39mreturn\u001b[39;00m\n\u001b[1;32m    162\u001b[0m \u001b[39mwith\u001b[39;00m ops\u001b[39m.\u001b[39mname_scope(name, \u001b[39m\"\u001b[39m\u001b[39mAssert\u001b[39m\u001b[39m\"\u001b[39m, [condition, data]) \u001b[39mas\u001b[39;00m name:\n",
      "\u001b[0;31mInvalidArgumentError\u001b[0m: Expected 'tf.Tensor(False, shape=(), dtype=bool)' to be true. Summarized data: b'No files matched pattern: files/S*/S*R01.edf'"
     ]
    }
   ],
   "source": [
    "training_dataset, training_labels = get_dataset(input='train')"
   ]
  },
  {
   "cell_type": "code",
   "execution_count": null,
   "metadata": {},
   "outputs": [],
   "source": [
    "train_data = np.empty([1, 160, 64], dtype=np.float32)\n",
    "train_data = np.vstack(training_dataset)\n",
    "del(training_dataset)\n",
    "\n",
    "train_label = np.empty([1, 1, 109], dtype=bool)\n",
    "train_label = np.vstack(training_labels)\n",
    "del(training_labels)"
   ]
  },
  {
   "cell_type": "code",
   "execution_count": null,
   "metadata": {},
   "outputs": [
    {
     "name": "stdout",
     "output_type": "stream",
     "text": [
      "train_data (147061, 160, 64)\n",
      "train_data (147061, 1, 109)\n"
     ]
    }
   ],
   "source": [
    "print(\"train_data\", train_data.shape)\n",
    "print(\"train_data\", train_label.shape)"
   ]
  },
  {
   "cell_type": "code",
   "execution_count": null,
   "metadata": {},
   "outputs": [],
   "source": [
    "testing_dataset, testing_labels = get_dataset(input='test')"
   ]
  },
  {
   "cell_type": "code",
   "execution_count": null,
   "metadata": {},
   "outputs": [],
   "source": [
    "test_data = np.empty([1, 160, 64], dtype=np.float32)\n",
    "test_data = np.vstack(testing_dataset)\n",
    "del(testing_dataset)\n",
    "\n",
    "test_label = np.empty([1, 1, 109], dtype=bool)\n",
    "test_label = np.vstack(testing_labels)\n",
    "del(testing_labels)"
   ]
  },
  {
   "cell_type": "code",
   "execution_count": null,
   "metadata": {},
   "outputs": [
    {
     "name": "stdout",
     "output_type": "stream",
     "text": [
      "(147061, 1, 109)\n",
      "(13380, 1, 109)\n"
     ]
    }
   ],
   "source": [
    "print(train_label.shape)\n",
    "print(test_label.shape)"
   ]
  },
  {
   "cell_type": "code",
   "execution_count": null,
   "metadata": {},
   "outputs": [],
   "source": [
    "# Load necessary libraries\n",
    "import mne\n",
    "from mne.decoding import Vectorizer\n",
    "\n",
    "from sklearn.preprocessing import StandardScaler\n",
    "from sklearn.pipeline import make_pipeline\n",
    "from sklearn.model_selection import cross_val_score, train_test_split, GridSearchCV, StratifiedKFold\n",
    "from sklearn.metrics import classification_report, accuracy_score, precision_recall_fscore_support\n",
    "\n",
    "# Models\n",
    "from sklearn import svm\n",
    "from sklearn.discriminant_analysis import LinearDiscriminantAnalysis\n",
    "from sklearn.linear_model import LogisticRegression"
   ]
  },
  {
   "cell_type": "code",
   "execution_count": null,
   "metadata": {},
   "outputs": [
    {
     "ename": "NameError",
     "evalue": "name 'make_pipeline' is not defined",
     "output_type": "error",
     "traceback": [
      "\u001b[0;31m---------------------------------------------------------------------------\u001b[0m",
      "\u001b[0;31mNameError\u001b[0m                                 Traceback (most recent call last)",
      "\u001b[1;32m/Volumes/MacCare/Mr Robot/Cao Học/Luận Văn/project/git_eeg_identify/person_identify.ipynb Cell 11'\u001b[0m in \u001b[0;36m<cell line: 1>\u001b[0;34m()\u001b[0m\n\u001b[0;32m----> <a href='vscode-notebook-cell:/Volumes/MacCare/Mr%20Robot/Cao%20Ho%CC%A3c/Lua%CC%A3%CC%82n%20Va%CC%86n/project/git_eeg_identify/person_identify.ipynb#ch0000013?line=0'>1</a>\u001b[0m clf_svm_0 \u001b[39m=\u001b[39m make_pipeline(Vectorizer(), StandardScaler(), svm\u001b[39m.\u001b[39mSVC(kernel\u001b[39m=\u001b[39m\u001b[39m'\u001b[39m\u001b[39mrbf\u001b[39m\u001b[39m'\u001b[39m, C\u001b[39m=\u001b[39m\u001b[39m1\u001b[39m))\n\u001b[1;32m      <a href='vscode-notebook-cell:/Volumes/MacCare/Mr%20Robot/Cao%20Ho%CC%A3c/Lua%CC%A3%CC%82n%20Va%CC%86n/project/git_eeg_identify/person_identify.ipynb#ch0000013?line=1'>2</a>\u001b[0m scores \u001b[39m=\u001b[39m cross_val_score(clf_svm_0, train_data, train_label, cv\u001b[39m=\u001b[39m\u001b[39m5\u001b[39m)\n\u001b[1;32m      <a href='vscode-notebook-cell:/Volumes/MacCare/Mr%20Robot/Cao%20Ho%CC%A3c/Lua%CC%A3%CC%82n%20Va%CC%86n/project/git_eeg_identify/person_identify.ipynb#ch0000013?line=2'>3</a>\u001b[0m \u001b[39mfor\u001b[39;00m i \u001b[39min\u001b[39;00m \u001b[39mrange\u001b[39m(\u001b[39mlen\u001b[39m(scores)):   \n",
      "\u001b[0;31mNameError\u001b[0m: name 'make_pipeline' is not defined"
     ]
    }
   ],
   "source": [
    "# Thu voi cac phuong phap Machine Learning\n",
    "clf_svm_0 = make_pipeline(Vectorizer(), StandardScaler(), svm.SVC(kernel='rbf', C=1))\n",
    "scores = cross_val_score(clf_svm_0, train_data, train_label, cv=5)\n",
    "for i in range(len(scores)):   \n",
    "    print('Accuracy of ' + str(i+1) + 'th fold is ' + str(scores[i]) + '\\n')"
   ]
  },
  {
   "cell_type": "code",
   "execution_count": null,
   "metadata": {},
   "outputs": [],
   "source": []
  }
 ],
 "metadata": {
  "kernelspec": {
   "display_name": "Python 3.10.0 64-bit",
   "language": "python",
   "name": "python3"
  },
  "language_info": {
   "codemirror_mode": {
    "name": "ipython",
    "version": 3
   },
   "file_extension": ".py",
   "mimetype": "text/x-python",
   "name": "python",
   "nbconvert_exporter": "python",
   "pygments_lexer": "ipython3",
   "version": "3.10.0"
  },
  "orig_nbformat": 4,
  "vscode": {
   "interpreter": {
    "hash": "949777d72b0d2535278d3dc13498b2535136f6dfe0678499012e853ee9abcab1"
   }
  }
 },
 "nbformat": 4,
 "nbformat_minor": 2
}
